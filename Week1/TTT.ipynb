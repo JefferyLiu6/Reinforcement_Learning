{
 "cells": [
  {
   "cell_type": "markdown",
   "metadata": {},
   "source": [
    "## Importing Libraries"
   ]
  },
  {
   "cell_type": "code",
   "execution_count": 8,
   "metadata": {},
   "outputs": [],
   "source": [
    "import random"
   ]
  },
  {
   "cell_type": "markdown",
   "metadata": {},
   "source": [
    "## TicTacToe Class\n",
    "\n",
    "- **`reset()`**: Resets the board and winner.\n",
    "- **`print_board()`**: Displays the board.\n",
    "- **`make_move(square, letter)`**: Places a marker (`X` or `O`) on the board if valid and checks for a winner.\n",
    "- **`check_winner(square, letter)`**: Checks if the given player has won after their move.\n",
    "- **`empty_squares()`**: Returns `True` if there are empty spaces on the board.\n",
    "- **`available_moves()`**: Lists all valid moves.\n",
    "- **`is_full()`**: Checks if the board is full.\n",
    "- **`check_draw()`**: Returns `True` if the game is a draw (full board, no winner)."
   ]
  },
  {
   "cell_type": "code",
   "execution_count": 10,
   "metadata": {},
   "outputs": [],
   "source": [
    "class TicTacToe:\n",
    "    def __init__(self):\n",
    "        self.board = [\" \" for _ in range(9)]\n",
    "        self.current_winner = None\n",
    "\n",
    "    def reset(self):\n",
    "        self.board = [\" \" for _ in range(9)]\n",
    "        self.current_winner = None\n",
    "\n",
    "    def print_board(self):\n",
    "        print(\"   0   1   2\")\n",
    "        for i in range(3):\n",
    "            row = self.board[i * 3:(i + 1) * 3]\n",
    "            print(f\"{i} | {row[0]} | {row[1]} | {row[2]} |\")\n",
    "            if i < 2:\n",
    "                print(\"  ---+---+---\")\n",
    "\n",
    "    def make_move(self, square, letter):\n",
    "        if self.board[square] == \" \":\n",
    "            self.board[square] = letter\n",
    "            if self.check_winner(square, letter):\n",
    "                self.current_winner = letter\n",
    "            return True\n",
    "        return False\n",
    "\n",
    "    def check_winner(self, square, letter):\n",
    "        row_ind = square // 3\n",
    "        row = self.board[row_ind * 3:(row_ind + 1) * 3]\n",
    "        if all([s == letter for s in row]):\n",
    "            return True\n",
    "\n",
    "        col_ind = square % 3\n",
    "        col = [self.board[col_ind + i * 3] for i in range(3)]\n",
    "        if all([s == letter for s in col]):\n",
    "            return True\n",
    "\n",
    "        if square % 2 == 0:\n",
    "            diag1 = [self.board[i] for i in [0, 4, 8]]\n",
    "            if all([s == letter for s in diag1]):\n",
    "                return True\n",
    "\n",
    "            diag2 = [self.board[i] for i in [2, 4, 6]]\n",
    "            if all([s == letter for s in diag2]):\n",
    "                return True\n",
    "\n",
    "        return False\n",
    "\n",
    "    def empty_squares(self):\n",
    "        return \" \" in self.board\n",
    "\n",
    "    def available_moves(self):\n",
    "        return [i for i, x in enumerate(self.board) if x == \" \"]\n",
    "\n",
    "    def is_full(self):\n",
    "        return not self.empty_squares()\n",
    "\n",
    "    def check_draw(self):\n",
    "        return self.is_full() and self.current_winner is None\n"
   ]
  },
  {
   "cell_type": "markdown",
   "metadata": {},
   "source": [
    "## HumanPlayer Class\n",
    "\n",
    "- **`get_move(game)`**: \n",
    "  - Prompts the player to input their move as `row,col` (e.g., `1,2`).\n",
    "  - Validates the move to ensure it corresponds to an available square on the board.\n",
    "  - Returns the valid move as a board index."
   ]
  },
  {
   "cell_type": "code",
   "execution_count": 11,
   "metadata": {},
   "outputs": [],
   "source": [
    "class HumanPlayer:\n",
    "    def __init__(self, letter):\n",
    "        self.letter = letter\n",
    "\n",
    "    def get_move(self, game):\n",
    "        valid_square = False\n",
    "        val = None\n",
    "        while not valid_square:\n",
    "            square = input(f\"{self.letter}'s turn. Input move as 'row,col' (e.g., 1,2): \")\n",
    "            try:\n",
    "                row, col = map(int, square.split(','))\n",
    "                val = row * 3 + col\n",
    "                if val not in game.available_moves():\n",
    "                    raise ValueError\n",
    "                valid_square = True\n",
    "            except (ValueError, IndexError):\n",
    "                print(\"Invalid input. Please enter row and column as 'row,col' where row and col are between 0 and 2.\")\n",
    "        return val"
   ]
  },
  {
   "cell_type": "markdown",
   "metadata": {},
   "source": [
    "## RandomComputerPlayer Class\n",
    "\n",
    "- **`get_move(game)`**: \n",
    "  - Randomly selects a move from the available squares on the board.\n",
    "  - Uses `random.choice()` to ensure the move is valid."
   ]
  },
  {
   "cell_type": "code",
   "execution_count": 12,
   "metadata": {},
   "outputs": [],
   "source": [
    "class RandomComputerPlayer:\n",
    "    def __init__(self, letter):\n",
    "        self.letter = letter\n",
    "\n",
    "    def get_move(self, game):\n",
    "        return random.choice(game.available_moves())\n"
   ]
  },
  {
   "cell_type": "markdown",
   "metadata": {},
   "source": [
    "## Minimax Algorithm\n",
    "- **Goal**: Simulate all possible game outcomes and select the best move for the computer.\n",
    "- **Parameters**:\n",
    "  - `state`: Current game state.\n",
    "  - `depth`: Depth of recursion.\n",
    "  - `maximizing_player`: True for the computer's turn; False for the opponent's turn.\n",
    "\n",
    "- **Base Cases**:\n",
    "  - Return `1` if the computer wins, `-1` if the opponent wins, or `0` for a draw.\n",
    "\n",
    "- **Logic**:\n",
    "  - **Maximizing Player**:\n",
    "    - Try all moves, simulate outcomes, and return the maximum evaluation score.\n",
    "  - **Minimizing Player**:\n",
    "    - Simulate opponent's moves and return the minimum evaluation score.\n",
    "\n",
    "- **Reference**: https://github.com/Cledersonbc/tic-tac-toe-minimax\n"
   ]
  },
  {
   "cell_type": "markdown",
   "metadata": {},
   "source": [
    "## `get_move(game)`\n",
    "- Iterates over all valid moves.\n",
    "- Uses `minimax` to calculate the score of each move.\n",
    "- Tracks the move with the highest score and returns it.\n",
    "\n",
    "\n",
    "## Key Features\n",
    "1. **Exploit a Win**: Takes winning moves immediately.\n",
    "2. **Prevent a Loss**: Blocks the opponent's winning moves.\n",
    "3. **Strategic Play**: Evaluates moves to maximize future winning chances.\n",
    "\n",
    "\n",
    "## How It Works\n",
    "1. Simulate each move on the board.\n",
    "2. Recursively explore all outcomes using `minimax`.\n",
    "3. Undo moves after evaluation (backtracking).\n",
    "4. Return the move with the best score.\n"
   ]
  },
  {
   "cell_type": "code",
   "execution_count": 13,
   "metadata": {},
   "outputs": [],
   "source": [
    "class UnbeatableComputerPlayer:\n",
    "    def __init__(self, letter):\n",
    "        self.letter = letter\n",
    "\n",
    "    def minimax(self, state, depth, maximizing_player):\n",
    "        opponent = \"O\" if self.letter == \"X\" else \"X\"\n",
    "        if state.current_winner == self.letter:\n",
    "            return 1\n",
    "        elif state.current_winner == opponent:\n",
    "            return -1\n",
    "        elif state.check_draw():\n",
    "            return 0\n",
    "\n",
    "        if maximizing_player:\n",
    "            max_eval = float('-inf')\n",
    "            for move in state.available_moves():\n",
    "                state.make_move(move, self.letter)\n",
    "                eval = self.minimax(state, depth + 1, False)\n",
    "                state.board[move] = \" \"\n",
    "                state.current_winner = None\n",
    "                max_eval = max(max_eval, eval)\n",
    "            return max_eval\n",
    "        else:\n",
    "            min_eval = float('inf')\n",
    "            for move in state.available_moves():\n",
    "                state.make_move(move, opponent)\n",
    "                eval = self.minimax(state, depth + 1, True)\n",
    "                state.board[move] = \" \"\n",
    "                state.current_winner = None\n",
    "                min_eval = min(min_eval, eval)\n",
    "            return min_eval\n",
    "\n",
    "    def get_move(self, game):\n",
    "        best_score = float('-inf')\n",
    "        best_move = None\n",
    "        for move in game.available_moves():\n",
    "            game.make_move(move, self.letter)\n",
    "            score = self.minimax(game, 0, False)\n",
    "            game.board[move] = \" \"\n",
    "            game.current_winner = None\n",
    "            if score > best_score:\n",
    "                best_score = score\n",
    "                best_move = move\n",
    "        return best_move\n"
   ]
  },
  {
   "cell_type": "markdown",
   "metadata": {},
   "source": [
    "## `play_game_human_vs_human` Function"
   ]
  },
  {
   "cell_type": "code",
   "execution_count": 14,
   "metadata": {},
   "outputs": [],
   "source": [
    "def play_game_human_vs_human():\n",
    "    game = TicTacToe()\n",
    "    human1 = HumanPlayer(\"X\")\n",
    "    human2 = HumanPlayer(\"O\")\n",
    "\n",
    "    game.print_board()\n",
    "\n",
    "    while game.empty_squares():\n",
    "        for player in [human1, human2]:\n",
    "            move = player.get_move(game)\n",
    "            if game.make_move(move, player.letter):\n",
    "                game.print_board()\n",
    "                if game.current_winner:\n",
    "                    print(f\"{player.letter} wins!\")\n",
    "                    return\n",
    "                elif game.check_draw():\n",
    "                    print(\"It's a draw!\")\n",
    "                    return"
   ]
  },
  {
   "cell_type": "code",
   "execution_count": 18,
   "metadata": {},
   "outputs": [
    {
     "name": "stdout",
     "output_type": "stream",
     "text": [
      "   0   1   2\n",
      "0 |   |   |   |\n",
      "  ---+---+---\n",
      "1 |   |   |   |\n",
      "  ---+---+---\n",
      "2 |   |   |   |\n",
      "   0   1   2\n",
      "0 | X |   |   |\n",
      "  ---+---+---\n",
      "1 |   |   |   |\n",
      "  ---+---+---\n",
      "2 |   |   |   |\n",
      "   0   1   2\n",
      "0 | X | O |   |\n",
      "  ---+---+---\n",
      "1 |   |   |   |\n",
      "  ---+---+---\n",
      "2 |   |   |   |\n",
      "   0   1   2\n",
      "0 | X | O |   |\n",
      "  ---+---+---\n",
      "1 | X |   |   |\n",
      "  ---+---+---\n",
      "2 |   |   |   |\n",
      "   0   1   2\n",
      "0 | X | O |   |\n",
      "  ---+---+---\n",
      "1 | X | O |   |\n",
      "  ---+---+---\n",
      "2 |   |   |   |\n",
      "Invalid input. Please enter row and column as 'row,col' where row and col are between 0 and 2.\n",
      "   0   1   2\n",
      "0 | X | O | X |\n",
      "  ---+---+---\n",
      "1 | X | O |   |\n",
      "  ---+---+---\n",
      "2 |   |   |   |\n",
      "   0   1   2\n",
      "0 | X | O | X |\n",
      "  ---+---+---\n",
      "1 | X | O |   |\n",
      "  ---+---+---\n",
      "2 |   | O |   |\n",
      "O wins!\n"
     ]
    }
   ],
   "source": [
    "play_game_human_vs_human()"
   ]
  },
  {
   "cell_type": "markdown",
   "metadata": {},
   "source": [
    "## `play_game_human_vs_unbeatable_computer` Function"
   ]
  },
  {
   "cell_type": "code",
   "execution_count": 16,
   "metadata": {},
   "outputs": [],
   "source": [
    "def play_game_human_vs_unbeatable_computer():\n",
    "    game = TicTacToe()\n",
    "    human = HumanPlayer(\"X\")\n",
    "    computer = UnbeatableComputerPlayer(\"O\")\n",
    "\n",
    "    game.print_board()\n",
    "\n",
    "    while game.empty_squares():\n",
    "        for player in [human, computer]:\n",
    "            move = player.get_move(game)\n",
    "            if game.make_move(move, player.letter):\n",
    "                game.print_board()\n",
    "                if game.current_winner:\n",
    "                    print(f\"{player.letter} wins!\")\n",
    "                    return\n",
    "                elif game.check_draw():\n",
    "                    print(\"It's a draw!\")\n",
    "                    return\n"
   ]
  },
  {
   "cell_type": "markdown",
   "metadata": {},
   "source": [
    "## X is the human player and 0 is the unbeatalbe computer"
   ]
  },
  {
   "cell_type": "code",
   "execution_count": 17,
   "metadata": {},
   "outputs": [
    {
     "name": "stdout",
     "output_type": "stream",
     "text": [
      "   0   1   2\n",
      "0 |   |   |   |\n",
      "  ---+---+---\n",
      "1 |   |   |   |\n",
      "  ---+---+---\n",
      "2 |   |   |   |\n",
      "   0   1   2\n",
      "0 | X |   |   |\n",
      "  ---+---+---\n",
      "1 |   |   |   |\n",
      "  ---+---+---\n",
      "2 |   |   |   |\n",
      "   0   1   2\n",
      "0 | X |   |   |\n",
      "  ---+---+---\n",
      "1 |   | O |   |\n",
      "  ---+---+---\n",
      "2 |   |   |   |\n",
      "   0   1   2\n",
      "0 | X | X |   |\n",
      "  ---+---+---\n",
      "1 |   | O |   |\n",
      "  ---+---+---\n",
      "2 |   |   |   |\n",
      "   0   1   2\n",
      "0 | X | X | O |\n",
      "  ---+---+---\n",
      "1 |   | O |   |\n",
      "  ---+---+---\n",
      "2 |   |   |   |\n",
      "Invalid input. Please enter row and column as 'row,col' where row and col are between 0 and 2.\n",
      "   0   1   2\n",
      "0 | X | X | O |\n",
      "  ---+---+---\n",
      "1 |   | O |   |\n",
      "  ---+---+---\n",
      "2 | X |   |   |\n",
      "   0   1   2\n",
      "0 | X | X | O |\n",
      "  ---+---+---\n",
      "1 | O | O |   |\n",
      "  ---+---+---\n",
      "2 | X |   |   |\n",
      "   0   1   2\n",
      "0 | X | X | O |\n",
      "  ---+---+---\n",
      "1 | O | O | X |\n",
      "  ---+---+---\n",
      "2 | X |   |   |\n",
      "   0   1   2\n",
      "0 | X | X | O |\n",
      "  ---+---+---\n",
      "1 | O | O | X |\n",
      "  ---+---+---\n",
      "2 | X | O |   |\n",
      "   0   1   2\n",
      "0 | X | X | O |\n",
      "  ---+---+---\n",
      "1 | O | O | X |\n",
      "  ---+---+---\n",
      "2 | X | O | X |\n",
      "It's a draw!\n"
     ]
    }
   ],
   "source": [
    "play_game_human_vs_unbeatable_computer()"
   ]
  },
  {
   "cell_type": "markdown",
   "metadata": {},
   "source": [
    "An unbeatable computer player this class would create by making use of the minimax method, which goes recursively through all game outcomes by simulating moves and testing win/loss/draw conditions, alternating between maximising the chances for computer and minimising them for an opponent. The method available_moves() returns the space of possible actions and then tests valid moves to find the best. All feedback such as move-making or updating the game states is inherently taken care of by the TicTacToe class, which is meant to manage board interaction and win or draw checks. Likewise, the very tightly connected and acting code in minimax would allow playing perfectly without needing explicit helper methods, though some conceptual things, such as simulating moves or evaluating outcomes, lie buried in the recursiveness."
   ]
  }
 ],
 "metadata": {
  "kernelspec": {
   "display_name": "Python 3",
   "language": "python",
   "name": "python3"
  },
  "language_info": {
   "codemirror_mode": {
    "name": "ipython",
    "version": 3
   },
   "file_extension": ".py",
   "mimetype": "text/x-python",
   "name": "python",
   "nbconvert_exporter": "python",
   "pygments_lexer": "ipython3",
   "version": "3.9.6"
  }
 },
 "nbformat": 4,
 "nbformat_minor": 2
}
