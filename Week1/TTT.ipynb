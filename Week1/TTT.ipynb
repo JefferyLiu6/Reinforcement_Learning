{
 "cells": [
  {
   "cell_type": "markdown",
   "metadata": {},
   "source": [
    "Importing Libraries"
   ]
  },
  {
   "cell_type": "code",
   "execution_count": 3,
   "metadata": {},
   "outputs": [],
   "source": [
    "import random"
   ]
  },
  {
   "cell_type": "code",
   "execution_count": null,
   "metadata": {},
   "outputs": [],
   "source": [
    "class TicTacToe:\n",
    "    def __init__(self):\n",
    "        self.board = [\" \" for _ in range(9)]\n",
    "        self.current_winner = None\n",
    "\n",
    "    def reset(self):\n",
    "        self.board = [\" \" for _ in range(9)]\n",
    "        self.current_winner = None        \n",
    "\n",
    "    def print_board(self):\n",
    "        print(\"   0   1   2\")\n",
    "        for i in range(3):\n",
    "            row = self.board[i*3:(i+1)*3]\n",
    "            # print(row)\n",
    "            print(f\"{i} | {row[0]} | {row[1]} | {row[2]} |\")\n",
    "            if i < 2:\n",
    "                print(\"  ---+---+---\")\n",
    "\n",
    "    def move(self, square, letter):\n",
    "        if self.board[square] == \" \":\n",
    "            self.board[square] = letter\n",
    "            if self.check_winner(square, letter):\n",
    "                self.current_winner = letter\n",
    "            return True\n",
    "        return False\n",
    "    "
   ]
  }
 ],
 "metadata": {
  "kernelspec": {
   "display_name": "Python 3",
   "language": "python",
   "name": "python3"
  },
  "language_info": {
   "codemirror_mode": {
    "name": "ipython",
    "version": 3
   },
   "file_extension": ".py",
   "mimetype": "text/x-python",
   "name": "python",
   "nbconvert_exporter": "python",
   "pygments_lexer": "ipython3",
   "version": "3.9.6"
  }
 },
 "nbformat": 4,
 "nbformat_minor": 2
}
