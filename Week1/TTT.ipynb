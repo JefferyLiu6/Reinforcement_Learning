{
 "cells": [
  {
   "cell_type": "markdown",
   "metadata": {},
   "source": [
    "Importing Libraries"
   ]
  },
  {
   "cell_type": "code",
   "execution_count": 3,
   "metadata": {},
   "outputs": [],
   "source": [
    "import random"
   ]
  },
  {
   "cell_type": "code",
   "execution_count": 4,
   "metadata": {},
   "outputs": [],
   "source": [
    "class TicTacToe:\n",
    "    def __init__(self):\n",
    "        self.board = [\" \" for _ in range(9)]\n",
    "        self.current_winner = None\n",
    "\n",
    "    def reset(self):\n",
    "        self.board = [\" \" for _ in range(9)]\n",
    "        self.current_winner = None        \n",
    "\n",
    "    def print_board(self):\n",
    "        print(\"   0   1   2\")\n",
    "        for i in range(3):\n",
    "            row = self.board[i*3:(i+1)*3]\n",
    "            # print(row)\n",
    "            print(f\"{i} | {row[0]} | {row[1]} | {row[2]} |\")\n",
    "            if i < 2:\n",
    "                print(\"  ---+---+---\")\n",
    "\n",
    "    def move(self, square, letter):\n",
    "        if self.board[square] == \" \":\n",
    "            self.board[square] = letter\n",
    "            if self.check_winner(square, letter):\n",
    "                self.current_winner = letter\n",
    "            return True\n",
    "        return False\n",
    "    \n",
    "    def check_winner(self, square, letter):\n",
    "        row_ind = square // 3\n",
    "        row = self.board[row_ind * 3:(row_ind + 1) * 3]\n",
    "        if all([s == letter for s in row]):\n",
    "            return True     \n",
    "\n",
    "        col_ind = square % 3\n",
    "        col = [self.board[col_ind + i * 3] for i in range(3)]\n",
    "        if all([s == letter for s in col]):\n",
    "            return True\n",
    "\n",
    "        if square % 2 == 0:\n",
    "            diag1 = [self.board[i] for i in [0, 4, 8]]\n",
    "            if all([s == letter for s in diag1]):\n",
    "                return True\n",
    "\n",
    "            diag2 = [self.board[i] for i in [2, 4, 6]]\n",
    "            if all([s == letter for s in diag2]):\n",
    "                return True\n",
    "\n",
    "        return False           \n",
    "\n",
    "\n",
    "    def empty_squares(self):\n",
    "        return \" \" in self.board\n",
    "\n",
    "    def available_moves(self):\n",
    "        return [i for i, x in enumerate(self.board) if x == \" \"]\n",
    "\n",
    "    def is_full(self):\n",
    "        return not self.empty_squares()\n",
    "\n",
    "    def check_draw(self):\n",
    "        return self.is_full() and self.current_winner is None\n"
   ]
  },
  {
   "cell_type": "code",
   "execution_count": 5,
   "metadata": {},
   "outputs": [],
   "source": [
    "class RandomComputerPlayer:\n",
    "    def __init__(self, letter):\n",
    "        self.letter = letter\n",
    "\n",
    "    def get_move(self, game):\n",
    "        return random.choice(game.available_moves())\n"
   ]
  }
 ],
 "metadata": {
  "kernelspec": {
   "display_name": "Python 3",
   "language": "python",
   "name": "python3"
  },
  "language_info": {
   "codemirror_mode": {
    "name": "ipython",
    "version": 3
   },
   "file_extension": ".py",
   "mimetype": "text/x-python",
   "name": "python",
   "nbconvert_exporter": "python",
   "pygments_lexer": "ipython3",
   "version": "3.9.6"
  }
 },
 "nbformat": 4,
 "nbformat_minor": 2
}
